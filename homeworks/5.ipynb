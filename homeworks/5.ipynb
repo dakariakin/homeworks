{
  "nbformat": 4,
  "nbformat_minor": 0,
  "metadata": {
    "colab": {
      "provenance": [],
      "authorship_tag": "ABX9TyMHDLygTFxjovjblzqgOVqN",
      "include_colab_link": true
    },
    "kernelspec": {
      "name": "python3",
      "display_name": "Python 3"
    },
    "language_info": {
      "name": "python"
    }
  },
  "cells": [
    {
      "cell_type": "markdown",
      "metadata": {
        "id": "view-in-github",
        "colab_type": "text"
      },
      "source": [
        "<a href=\"https://colab.research.google.com/github/dakariakin/homeworks/blob/main/homeworks/5.ipynb\" target=\"_parent\"><img src=\"https://colab.research.google.com/assets/colab-badge.svg\" alt=\"Open In Colab\"/></a>"
      ]
    },
    {
      "cell_type": "code",
      "source": [
        "import pickle\n",
        "import requests"
      ],
      "metadata": {
        "id": "ABFEnUCLrFmj"
      },
      "execution_count": 16,
      "outputs": []
    },
    {
      "cell_type": "code",
      "execution_count": 6,
      "metadata": {
        "colab": {
          "base_uri": "https://localhost:8080/"
        },
        "id": "EEYpEcB6rDg1",
        "outputId": "61ab4d5f-0569-4a60-a4a4-e23a812c3c27"
      },
      "outputs": [
        {
          "output_type": "stream",
          "name": "stdout",
          "text": [
            "--2023-10-16 13:33:30--  https://raw.githubusercontent.com/DataTalksClub/machine-learning-zoomcamp/master/cohorts/2023/05-deployment/homework/model1.bin\n",
            "Resolving raw.githubusercontent.com (raw.githubusercontent.com)... 185.199.110.133, 185.199.109.133, 185.199.111.133, ...\n",
            "Connecting to raw.githubusercontent.com (raw.githubusercontent.com)|185.199.110.133|:443... connected.\n",
            "HTTP request sent, awaiting response... 200 OK\n",
            "Length: 842 [application/octet-stream]\n",
            "Saving to: ‘model1.bin’\n",
            "\n",
            "\rmodel1.bin            0%[                    ]       0  --.-KB/s               \rmodel1.bin          100%[===================>]     842  --.-KB/s    in 0s      \n",
            "\n",
            "2023-10-16 13:33:30 (85.5 MB/s) - ‘model1.bin’ saved [842/842]\n",
            "\n",
            "--2023-10-16 13:33:30--  https://raw.githubusercontent.com/DataTalksClub/machine-learning-zoomcamp/master/cohorts/2023/05-deployment/homework/dv.bin\n",
            "Resolving raw.githubusercontent.com (raw.githubusercontent.com)... 185.199.109.133, 185.199.110.133, 185.199.108.133, ...\n",
            "Connecting to raw.githubusercontent.com (raw.githubusercontent.com)|185.199.109.133|:443... connected.\n",
            "HTTP request sent, awaiting response... 200 OK\n",
            "Length: 560 [application/octet-stream]\n",
            "Saving to: ‘dv.bin.3’\n",
            "\n",
            "dv.bin.3            100%[===================>]     560  --.-KB/s    in 0s      \n",
            "\n",
            "2023-10-16 13:33:30 (38.8 MB/s) - ‘dv.bin.3’ saved [560/560]\n",
            "\n"
          ]
        }
      ],
      "source": [
        "PREFIX=\"https://raw.githubusercontent.com/DataTalksClub/machine-learning-zoomcamp/master/cohorts/2023/05-deployment/homework\"\n",
        "!wget $PREFIX/model1.bin\n",
        "!wget $PREFIX/dv.bin"
      ]
    },
    {
      "cell_type": "code",
      "source": [
        "with open(\"model1.bin\", 'rb') as f_in:\n",
        "    model = pickle.load(f_in)\n",
        "with open(\"dv.bin\", 'rb') as f_in:\n",
        "    dv = pickle.load(f_in)"
      ],
      "metadata": {
        "colab": {
          "base_uri": "https://localhost:8080/"
        },
        "id": "u2llBEF2rl3s",
        "outputId": "0a523f01-c6b9-4009-a2a8-6bf3f0b39b6b"
      },
      "execution_count": 7,
      "outputs": [
        {
          "output_type": "stream",
          "name": "stderr",
          "text": [
            "/usr/local/lib/python3.10/dist-packages/sklearn/base.py:318: UserWarning: Trying to unpickle estimator LogisticRegression from version 1.3.1 when using version 1.2.2. This might lead to breaking code or invalid results. Use at your own risk. For more info please refer to:\n",
            "https://scikit-learn.org/stable/model_persistence.html#security-maintainability-limitations\n",
            "  warnings.warn(\n",
            "/usr/local/lib/python3.10/dist-packages/sklearn/base.py:318: UserWarning: Trying to unpickle estimator DictVectorizer from version 1.3.1 when using version 1.2.2. This might lead to breaking code or invalid results. Use at your own risk. For more info please refer to:\n",
            "https://scikit-learn.org/stable/model_persistence.html#security-maintainability-limitations\n",
            "  warnings.warn(\n"
          ]
        }
      ]
    },
    {
      "cell_type": "code",
      "source": [
        "customer = {\"job\": \"retired\", \"duration\": 445, \"poutcome\": \"success\"}\n",
        "X = dv.transform([customer])"
      ],
      "metadata": {
        "id": "tVrSk2NKrxEY"
      },
      "execution_count": 13,
      "outputs": []
    },
    {
      "cell_type": "code",
      "source": [
        "y_pred = model.predict_proba(X)\n",
        "y_pred[0, 1]"
      ],
      "metadata": {
        "colab": {
          "base_uri": "https://localhost:8080/"
        },
        "id": "Ykh92gKPr0Je",
        "outputId": "9146f6c2-c110-4b96-ca57-9aa0edaf1e7e"
      },
      "execution_count": 15,
      "outputs": [
        {
          "output_type": "execute_result",
          "data": {
            "text/plain": [
              "array([[0.09806907, 0.90193093]])"
            ]
          },
          "metadata": {},
          "execution_count": 15
        }
      ]
    },
    {
      "cell_type": "code",
      "source": [
        "url = \"https://e5b7-88-156-138-242.ngrok-free.app/predict\"\n",
        "client = {\"job\": \"unknown\", \"duration\": 270, \"poutcome\": \"failure\"}\n",
        "requests.post(url, json=client).json()"
      ],
      "metadata": {
        "colab": {
          "base_uri": "https://localhost:8080/"
        },
        "id": "_MZHj1q4uGKf",
        "outputId": "e10ed469-bf9f-4578-d13e-28699da21f4b"
      },
      "execution_count": 17,
      "outputs": [
        {
          "output_type": "execute_result",
          "data": {
            "text/plain": [
              "{'credit_probability': 0.13968947052356817}"
            ]
          },
          "metadata": {},
          "execution_count": 17
        }
      ]
    },
    {
      "cell_type": "code",
      "source": [
        "url = \"https://6ebc-88-156-138-242.ngrok-free.app/predict\"\n",
        "client = {\"job\": \"retired\", \"duration\": 445, \"poutcome\": \"success\"}\n",
        "requests.post(url, json=client).json()"
      ],
      "metadata": {
        "colab": {
          "base_uri": "https://localhost:8080/"
        },
        "id": "onZG5OIMzH0H",
        "outputId": "f1322b68-7a61-4ec1-be68-62d026f8cf65"
      },
      "execution_count": 18,
      "outputs": [
        {
          "output_type": "execute_result",
          "data": {
            "text/plain": [
              "{'credit_probability': 0.9019309332297606}"
            ]
          },
          "metadata": {},
          "execution_count": 18
        }
      ]
    }
  ]
}